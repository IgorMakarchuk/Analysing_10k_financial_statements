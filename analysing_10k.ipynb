{
 "cells": [
  {
   "cell_type": "markdown",
   "metadata": {},
   "source": [
    "In this notebook we will extract 10-k financial statement for the companies of our interest from the Security and Exchange Commision (SEC), clean data, pre-process and make basic sentiment analysis"
   ]
  },
  {
   "cell_type": "markdown",
   "metadata": {},
   "source": [
    "# ANALYSING 10-K FINANCIAL STATEMENTS"
   ]
  },
  {
   "cell_type": "markdown",
   "metadata": {},
   "source": [
    "### Importing necessary packages"
   ]
  },
  {
   "cell_type": "code",
   "execution_count": 1,
   "metadata": {},
   "outputs": [],
   "source": [
    "import nltk\n",
    "import numpy as np\n",
    "import pandas as pd\n",
    "import pickle\n",
    "import pprint\n",
    "import project_helper\n",
    "import project_tests                   #!!!!!!!!! REMOVE LATERS if not needed !!!!!!!!!!!!!!!!!!!\n",
    "\n",
    "from tqdm import tqdm"
   ]
  },
  {
   "cell_type": "markdown",
   "metadata": {},
   "source": [
    "Here we will download a nltk corpora to be used later in this project"
   ]
  },
  {
   "cell_type": "code",
   "execution_count": 2,
   "metadata": {},
   "outputs": [
    {
     "name": "stdout",
     "output_type": "stream",
     "text": [
      "[nltk_data] Error loading stopwords: <urlopen error [Errno 8] nodename\n",
      "[nltk_data]     nor servname provided, or not known>\n",
      "[nltk_data] Error loading wordnet: <urlopen error [Errno 8] nodename\n",
      "[nltk_data]     nor servname provided, or not known>\n"
     ]
    },
    {
     "data": {
      "text/plain": [
       "False"
      ]
     },
     "execution_count": 2,
     "metadata": {},
     "output_type": "execute_result"
    }
   ],
   "source": [
    "nltk.download('stopwords')\n",
    "nltk.download('wordnet')"
   ]
  },
  {
   "cell_type": "markdown",
   "metadata": {},
   "source": [
    "### Choosing companies to analyse their 10k's and downloading the 10k's"
   ]
  },
  {
   "cell_type": "markdown",
   "metadata": {},
   "source": [
    "Now we enter the companies of our interest: \n",
    "###### Amazon, Apple, Microsoft, Tesla, Nike, Facebook, Google"
   ]
  },
  {
   "cell_type": "code",
   "execution_count": 3,
   "metadata": {},
   "outputs": [],
   "source": [
    "# creating dict of indecies of our interest\n",
    "cik_lookup = {\n",
    "    'AMZN': '0001018724',    \n",
    "    'APL': '0000320193',\n",
    "    'MSFT': '0000789019',\n",
    "    'TSL': '0001318605',\n",
    "    'NKE': '0000320187',\n",
    "    'FB': '0001326801',\n",
    "    'GOOGL': '0001288776',\n",
    "    }"
   ]
  },
  {
   "cell_type": "markdown",
   "metadata": {},
   "source": [
    "Here we will use `SecAPI` class provided to us by UDACITY (can be found inside `project_helper`) in order to avoid SEC's limit of calls per second. \n",
    "\n",
    "###### Note to self: (NOT 100% sure how this works)"
   ]
  },
  {
   "cell_type": "code",
   "execution_count": 4,
   "metadata": {},
   "outputs": [],
   "source": [
    "sec_api = project_helper.SecAPI()"
   ]
  },
  {
   "cell_type": "markdown",
   "metadata": {},
   "source": [
    "Downloading list of filled 10-k's.\n",
    "\n",
    "###### Note to self: Here we choose a parameter of date for the first time! we should parametrize this later"
   ]
  },
  {
   "cell_type": "code",
   "execution_count": 5,
   "metadata": {},
   "outputs": [],
   "source": [
    "#importing BS\n",
    "from bs4 import BeautifulSoup\n",
    "\n",
    "\n",
    "def get_sec_data(cik, doc_type, start=0, count=60):\n",
    "    \"\"\"\n",
    "    Extract 10k's into a list\n",
    "    \n",
    "    Parameters:\n",
    "    -----------\n",
    "    cik : dict\n",
    "            List of ciks\n",
    "    doc_type : string \n",
    "            Type of documents that interests us\n",
    "    start : int\n",
    "            setting for the website\n",
    "    count : int\n",
    "            ammount of pages to load I guess 60\n",
    "            \n",
    "    Returns:\n",
    "    --------\n",
    "    entries : list \n",
    "                A list of url's for doc_type for a date for the cik company in the SEC Database that we acess\n",
    "    \"\"\"\n",
    "    \n",
    "    #setting date for the newest pricing data PARAMETRIZE DATE LATER!!!!!!\n",
    "    newest_pricing_data = pd.to_datetime('2018-01-01')\n",
    "    \n",
    "    #entering URL to directly acces 10k's, WE NEED TO UNDERSTAND THE STRUCTURE OF THE URL ADRESS FOR THIS ONE!\n",
    "    rss_url = 'https://www.sec.gov/cgi-bin/browse-edgar?action=getcompany' \\\n",
    "        '&CIK={}&type={}&start={}&count={}&owner=exclude&output=atom' \\\n",
    "        .format(cik, doc_type, start, count)\n",
    "    \n",
    "    #entering url into the helper class sec_api \n",
    "    sec_data = sec_api.get(rss_url)\n",
    "    \n",
    "    # USING BEAUTIFUL SOUP to extract the HTML version of the webiste\n",
    "    feed = BeautifulSoup(sec_data.encode('ascii'), 'xml').feed\n",
    "    #print(feed)\n",
    "    \n",
    "    #this must create a list of entries of 10k's from the SEC Database\n",
    "    entries = [\n",
    "        (\n",
    "            entry.content.find('filing-href').getText(),\n",
    "            entry.content.find('filing-type').getText(),\n",
    "            entry.content.find('filing-date').getText())\n",
    "        for entry in feed.find_all('entry', recursive=False)\n",
    "        if pd.to_datetime(entry.content.find('filing-date').getText()) <= newest_pricing_data]\n",
    "\n",
    "    return entries"
   ]
  },
  {
   "cell_type": "code",
   "execution_count": 7,
   "metadata": {},
   "outputs": [
    {
     "name": "stdout",
     "output_type": "stream",
     "text": [
      "[('https://www.sec.gov/Archives/edgar/data/320193/000032019317000070/0000320193-17-000070-index.htm',\n",
      "  '10-K',\n",
      "  '2017-11-03'),\n",
      " ('https://www.sec.gov/Archives/edgar/data/320193/000162828016020309/0001628280-16-020309-index.htm',\n",
      "  '10-K',\n",
      "  '2016-10-26'),\n",
      " ('https://www.sec.gov/Archives/edgar/data/320193/000119312515356351/0001193125-15-356351-index.htm',\n",
      "  '10-K',\n",
      "  '2015-10-28'),\n",
      " ('https://www.sec.gov/Archives/edgar/data/320193/000119312514383437/0001193125-14-383437-index.htm',\n",
      "  '10-K',\n",
      "  '2014-10-27'),\n",
      " ('https://www.sec.gov/Archives/edgar/data/320193/000119312513416534/0001193125-13-416534-index.htm',\n",
      "  '10-K',\n",
      "  '2013-10-30')]\n"
     ]
    }
   ],
   "source": [
    "# testing\n",
    "example_ticker = 'APL'\n",
    "sec_data = {}\n",
    "\n",
    "for ticker, cik in cik_lookup.items():\n",
    "    sec_data[ticker] = get_sec_data(cik, '10-K')\n",
    "\n",
    "pprint.pprint(sec_data[example_ticker][:5])"
   ]
  },
  {
   "cell_type": "code",
   "execution_count": 8,
   "metadata": {},
   "outputs": [
    {
     "name": "stderr",
     "output_type": "stream",
     "text": [
      "Downloading AMZN Fillings: 100%|██████████| 22/22 [02:09<00:00,  5.90s/filling]\n",
      "Downloading APL Fillings: 100%|██████████| 26/26 [00:28<00:00,  1.09s/filling]\n",
      "Downloading MSFT Fillings: 100%|██████████| 24/24 [00:33<00:00,  1.39s/filling]\n",
      "Downloading TSL Fillings: 100%|██████████| 8/8 [00:14<00:00,  1.78s/filling]\n",
      "Downloading NKE Fillings: 100%|██████████| 26/26 [00:30<00:00,  1.18s/filling]\n",
      "Downloading FB Fillings: 100%|██████████| 7/7 [00:13<00:00,  1.91s/filling]\n",
      "Downloading GOOGL Fillings: 100%|██████████| 14/14 [00:22<00:00,  1.59s/filling]"
     ]
    },
    {
     "name": "stdout",
     "output_type": "stream",
     "text": [
      "Example Document:\n",
      "\n",
      "<SEC-DOCUMENT>0000320193-17-000070.txt : 20171103\n",
      "<SEC-HEADER>0000320193-17-000070.hdr.sgml : 20171103\n",
      "<ACCEPTANCE-DATETIME>20171103080137\n",
      "ACCESSION NUMBER:\t\t0000320193-17-000070\n",
      "CONFORMED SUBMISSION TYPE:\t10-K\n",
      "PUBLIC DOCUMENT COUNT:\t\t97\n",
      "CONFORMED PERIOD OF REPORT:\t20170930\n",
      "FILED AS OF DATE:\t\t20171103\n",
      "DATE AS OF CHANGE:\t\t20171103\n",
      "\n",
      "FILER:\n",
      "\n",
      "\tCOMPANY DATA:\t\n",
      "\t\tCOMPANY CONFORMED NAME:\t\t\tAPPLE INC\n",
      "\t\tCENTRAL INDEX KEY:\t\t\t0000320193\n",
      "\t\tSTANDARD INDUSTRIAL CLASSIFICATION:\tELECTRONIC COMPUTERS [3571]\n",
      "\t\tIRS NUMBER:\t\t\t\t942404110\n",
      "\t\tSTATE OF INCORPORATION:\t\t\tCA\n",
      "\t\tFISCAL YEAR END:\t\t\t0930\n",
      "\n",
      "\tFILING VALUES:\n",
      "\t\tFORM TYPE:\t\t10-K\n",
      "\t\tSEC ACT:\t\t1934 Act\n",
      "\t\tSEC FILE NUMBER:\t001-36743\n",
      "\t\tFILM NUMBER:\t\t171174673\n",
      "\n",
      "\tBUSINESS ADDRESS:\t\n",
      "\t\tSTREET 1:\t\tONE INFINITE LOOP\n",
      "\t\tCITY:\t\t\tCUPERTINO\n",
      "\t\tSTATE:\t\t\tCA\n",
      "\t\tZIP:\t\t\t95014\n",
      "\t\tBUSINESS PHONE:\t\t(408) 996-1010\n",
      "\n",
      "\tMAIL ADDRESS:\t\n",
      "\t\tSTREET 1:\t\tONE INFINITE LOOP\n",
      "\t\tCITY:\t\t\tCUPERTINO\n",
      "\t\tSTATE:\t\t\tCA\n",
      "\t\tZIP:\t\t\t95014\n",
      "\n",
      "\tFORMER COMPANY:\t\n",
      "\t\tFORMER CONFORMED NAME:\tAPPLE COMPUTER INC\n",
      "\t\tDATE OF NAME...\n"
     ]
    },
    {
     "name": "stderr",
     "output_type": "stream",
     "text": [
      "\n"
     ]
    }
   ],
   "source": [
    "# entering the url and avoiding metadata (by replacing url adress) and accessing .txt file \n",
    "# saving the whole content into the dict with ticker and date as a key and document as a string\n",
    "raw_fillings_by_ticker = {}\n",
    "\n",
    "for ticker, data in sec_data.items():\n",
    "    raw_fillings_by_ticker[ticker] = {}\n",
    "    for index_url, file_type, file_date in tqdm(data, desc='Downloading {} Fillings'.format(ticker), unit='filling'):\n",
    "        if (file_type == '10-K'):\n",
    "            file_url = index_url.replace('-index.htm', '.txt').replace('.txtl', '.txt')            \n",
    "            \n",
    "            raw_fillings_by_ticker[ticker][file_date] = sec_api.get(file_url)\n",
    "\n",
    "\n",
    "print('Example Document:\\n\\n{}...'.format(next(iter(raw_fillings_by_ticker[example_ticker].values()))[:1000]))"
   ]
  },
  {
   "cell_type": "markdown",
   "metadata": {},
   "source": [
    "Now because every 10k filing has different information containing, we want to narrow it down to the documents iteslf"
   ]
  },
  {
   "cell_type": "code",
   "execution_count": 9,
   "metadata": {},
   "outputs": [],
   "source": [
    "import re\n",
    "\n",
    "def get_documents(text):\n",
    "    \"\"\"\n",
    "    Extract the documents from the text\n",
    "\n",
    "    Parameters\n",
    "    ----------\n",
    "    text : str\n",
    "        The text with the document strings inside\n",
    "\n",
    "    Returns\n",
    "    -------\n",
    "    extracted_docs : list of str\n",
    "        The document strings found in `text`\n",
    "    \"\"\"\n",
    "        # setting the regexes for the beginning and end of the document \n",
    "    begin_regex = re.compile(r'<DOCUMENT>')\n",
    "    end_regex = re.compile(r'</DOCUMENT>')\n",
    "    \n",
    "    # extracting the numerical value of a beginning and an end of a string\n",
    "    begin_positions = [x.end() for x in begin_regex.finditer(text)]\n",
    "    end_positions = [x.start() for x in end_regex.finditer(text)]\n",
    "\n",
    "    extracted_docs = []\n",
    "    if len(begin_positions) == len(end_positions):\n",
    "        for begin, end in zip(begin_positions, end_positions):\n",
    "            extracted_docs.append(text[begin:end])\n",
    "    \n",
    "    return extracted_docs\n",
    "\n"
   ]
  },
  {
   "cell_type": "code",
   "execution_count": 10,
   "metadata": {},
   "outputs": [
    {
     "name": "stderr",
     "output_type": "stream",
     "text": [
      "Getting Documents from AMZN Fillings: 100%|██████████| 17/17 [00:00<00:00, 52.67filling/s]\n",
      "Getting Documents from APL Fillings: 100%|██████████| 22/22 [00:00<00:00, 89.07filling/s]\n",
      "Getting Documents from MSFT Fillings: 100%|██████████| 24/24 [00:00<00:00, 58.59filling/s]\n",
      "Getting Documents from TSL Fillings: 100%|██████████| 7/7 [00:00<00:00, 31.89filling/s]\n",
      "Getting Documents from NKE Fillings: 100%|██████████| 21/21 [00:00<00:00, 53.66filling/s]\n",
      "Getting Documents from FB Fillings: 100%|██████████| 5/5 [00:00<00:00, 30.39filling/s]\n",
      "Getting Documents from GOOGL Fillings: 100%|██████████| 12/12 [00:00<00:00, 45.47filling/s]"
     ]
    },
    {
     "name": "stdout",
     "output_type": "stream",
     "text": [
      "Document 0 Filed on 2017-11-03:\n",
      "\n",
      "<TYPE>10-K\n",
      "<SEQUENCE>1\n",
      "<FILENAME>a10-k20179302017.htm\n",
      "<DESCRIPTION>10-K\n",
      "<TEXT>\n",
      "<!DOCTYPE html PUBLIC \"-//W3C//DTD HTML 4.01 Transitional//EN\" \"http://www.w3.org/TR/html4/loose.dtd\">\n",
      "<html>\n",
      "\t<head>\n",
      "\t\t...\n",
      "\n",
      "Document 1 Filed on 2017-11-03:\n",
      "\n",
      "<TYPE>EX-10.8\n",
      "<SEQUENCE>2\n",
      "<FILENAME>a10-kexhibit1082017.htm\n",
      "<DESCRIPTION>EXHIBIT 10.8\n",
      "<TEXT>\n",
      "<!DOCTYPE html PUBLIC \"-//W3C//DTD HTML 4.01 Transitional//EN\" \"http://www.w3.org/TR/html4/loose.dtd\">\n",
      "<ht...\n",
      "\n",
      "Document 2 Filed on 2017-11-03:\n",
      "\n",
      "<TYPE>EX-10.20\n",
      "<SEQUENCE>3\n",
      "<FILENAME>a10-kexhibit10202017.htm\n",
      "<DESCRIPTION>EXHIBIT 10.20\n",
      "<TEXT>\n",
      "<!DOCTYPE html PUBLIC \"-//W3C//DTD HTML 4.01 Transitional//EN\" \"http://www.w3.org/TR/html4/loose.dtd\">\n",
      "...\n"
     ]
    },
    {
     "name": "stderr",
     "output_type": "stream",
     "text": [
      "\n"
     ]
    }
   ],
   "source": [
    "# creating dict with keys: Ticker:Date:Documnet itself\n",
    "filling_documents_by_ticker = {}\n",
    "\n",
    "#extracting\n",
    "for ticker, raw_fillings in raw_fillings_by_ticker.items():\n",
    "    filling_documents_by_ticker[ticker] = {}\n",
    "    for file_date, filling in tqdm(raw_fillings.items(), desc='Getting Documents from {} Fillings'.format(ticker), unit='filling'):\n",
    "        filling_documents_by_ticker[ticker][file_date] = get_documents(filling)\n",
    "\n",
    "\n",
    "print('\\n\\n'.join([\n",
    "    'Document {} Filed on {}:\\n{}...'.format(doc_i, file_date, doc[:200])\n",
    "    for file_date, docs in filling_documents_by_ticker[example_ticker].items()\n",
    "    for doc_i, doc in enumerate(docs)][:3]))"
   ]
  },
  {
   "cell_type": "markdown",
   "metadata": {},
   "source": [
    "Because the structure of the 10k- filings it has different types of documents inside. We will only want to extract 10-k form"
   ]
  },
  {
   "cell_type": "code",
   "execution_count": 11,
   "metadata": {},
   "outputs": [],
   "source": [
    "def get_document_type(doc):\n",
    "    \"\"\"\n",
    "    Return the document type lowercased\n",
    "\n",
    "    Parameters\n",
    "    ----------\n",
    "    doc : str\n",
    "        The document string\n",
    "\n",
    "    Returns\n",
    "    -------\n",
    "    doc_type : str\n",
    "        The document type lowercased\n",
    "    \"\"\"\n",
    "    \n",
    "    #filter and extract names of the each form\n",
    "    regex_type = re.compile(r'<TYPE>(\\S)*')\n",
    "    #find_types_position = regex_type.finditer(doc)\n",
    "    begin_position = [x.start() for x in regex_type.finditer(doc)]\n",
    "    end_position = [x.end() for x in regex_type.finditer(doc)]\n",
    "    #print(begin_position, end_position)\n",
    "    doc_type =  doc[(begin_position[0]+6):end_position[0]].lower()\n",
    "    return doc_type"
   ]
  },
  {
   "cell_type": "code",
   "execution_count": 12,
   "metadata": {},
   "outputs": [
    {
     "name": "stdout",
     "output_type": "stream",
     "text": [
      "[\n",
      "  {\n",
      "    cik: '0000320193'\n",
      "    file: '\\n<TYPE>10-K\\n<SEQUENCE>1\\n<FILENAME>a10-k2017930...\n",
      "    file_date: '2017-11-03'},\n",
      "  {\n",
      "    cik: '0000320193'\n",
      "    file: '\\n<TYPE>10-K\\n<SEQUENCE>1\\n<FILENAME>a201610-k924...\n",
      "    file_date: '2016-10-26'},\n",
      "  {\n",
      "    cik: '0000320193'\n",
      "    file: '\\n<TYPE>10-K\\n<SEQUENCE>1\\n<FILENAME>d17062d10k.h...\n",
      "    file_date: '2015-10-28'},\n",
      "  {\n",
      "    cik: '0000320193'\n",
      "    file: '\\n<TYPE>10-K\\n<SEQUENCE>1\\n<FILENAME>d783162d10k....\n",
      "    file_date: '2014-10-27'},\n",
      "  {\n",
      "    cik: '0000320193'\n",
      "    file: '\\n<TYPE>10-K\\n<SEQUENCE>1\\n<FILENAME>d590790d10k....\n",
      "    file_date: '2013-10-30'},\n",
      "]\n"
     ]
    }
   ],
   "source": [
    "# creating a dict with {Ticker: [{cik: ----, file: ----, file_date: ---}]} structure\n",
    "ten_ks_by_ticker = {}\n",
    "\n",
    "for ticker, filling_documents in filling_documents_by_ticker.items():\n",
    "    ten_ks_by_ticker[ticker] = []\n",
    "    for file_date, documents in filling_documents.items():\n",
    "        for document in documents:\n",
    "            if get_document_type(document) == '10-k':\n",
    "                ten_ks_by_ticker[ticker].append({\n",
    "                    'cik': cik_lookup[ticker],\n",
    "                    'file': document,\n",
    "                    'file_date': file_date})\n",
    "\n",
    "\n",
    "project_helper.print_ten_k_data(ten_ks_by_ticker[example_ticker][:5], ['cik', 'file', 'file_date'])"
   ]
  },
  {
   "cell_type": "markdown",
   "metadata": {},
   "source": [
    "### Preprocessing Data and Cleaning Data; Lemmatizing and Removing Stopwords"
   ]
  },
  {
   "cell_type": "code",
   "execution_count": 13,
   "metadata": {},
   "outputs": [],
   "source": [
    "# function to remove html\n",
    "def remove_html_tags(text):\n",
    "    text = BeautifulSoup(text, 'html.parser').get_text()\n",
    "    \n",
    "    return text\n",
    "\n",
    "# function to lower text and remoce html tags\n",
    "def clean_text(text):\n",
    "    text = text.lower()\n",
    "    text = remove_html_tags(text)\n",
    "    \n",
    "    return text"
   ]
  },
  {
   "cell_type": "code",
   "execution_count": 14,
   "metadata": {},
   "outputs": [
    {
     "name": "stderr",
     "output_type": "stream",
     "text": [
      "Cleaning AMZN 10-Ks: 100%|██████████| 17/17 [00:50<00:00,  2.97s/10-K]\n",
      "Cleaning APL 10-Ks: 100%|██████████| 22/22 [00:34<00:00,  1.55s/10-K]\n",
      "Cleaning MSFT 10-Ks: 100%|██████████| 24/24 [00:48<00:00,  2.00s/10-K]\n",
      "Cleaning TSL 10-Ks: 100%|██████████| 7/7 [00:16<00:00,  2.40s/10-K]\n",
      "Cleaning NKE 10-Ks: 100%|██████████| 21/21 [00:47<00:00,  2.25s/10-K]\n",
      "Cleaning FB 10-Ks: 100%|██████████| 5/5 [00:12<00:00,  2.47s/10-K]\n",
      "Cleaning GOOGL 10-Ks: 100%|██████████| 12/12 [00:33<00:00,  2.82s/10-K]"
     ]
    },
    {
     "name": "stdout",
     "output_type": "stream",
     "text": [
      "[\n",
      "  {\n",
      "    file_clean: '\\n10-k\\n1\\na10-k20179302017.htm\\n10-k\\n\\n\\n\\n\\n\\n...},\n",
      "  {\n",
      "    file_clean: '\\n10-k\\n1\\na201610-k9242016.htm\\n10-k\\n\\n\\n\\n\\n\\n...},\n",
      "  {\n",
      "    file_clean: '\\n10-k\\n1\\nd17062d10k.htm\\nform 10-k\\n\\n\\nform 10...},\n",
      "  {\n",
      "    file_clean: '\\n10-k\\n1\\nd783162d10k.htm\\n10-k\\n\\n\\n10-k\\n\\n\\nt...},\n",
      "  {\n",
      "    file_clean: '\\n10-k\\n1\\nd590790d10k.htm\\nform 10-k\\n\\n\\nform 1...},\n",
      "]\n"
     ]
    },
    {
     "name": "stderr",
     "output_type": "stream",
     "text": [
      "\n"
     ]
    }
   ],
   "source": [
    "for ticker, ten_ks in ten_ks_by_ticker.items():\n",
    "    for ten_k in tqdm(ten_ks, desc='Cleaning {} 10-Ks'.format(ticker), unit='10-K'):\n",
    "        ten_k['file_clean'] = clean_text(ten_k['file'])\n",
    "\n",
    "\n",
    "project_helper.print_ten_k_data(ten_ks_by_ticker[example_ticker][:5], ['file_clean'])"
   ]
  },
  {
   "cell_type": "code",
   "execution_count": 15,
   "metadata": {},
   "outputs": [],
   "source": [
    "from nltk.stem import WordNetLemmatizer\n",
    "from nltk.corpus import wordnet as wn\n",
    "\n",
    "\n",
    "def lemmatize_words(words):\n",
    "    \"\"\"\n",
    "    Lemmatize words \n",
    "\n",
    "    Parameters\n",
    "    ----------\n",
    "    words : list of str\n",
    "        List of words\n",
    "\n",
    "    Returns\n",
    "    -------\n",
    "    lemmatized_words : list of str\n",
    "        List of lemmatized words\n",
    "    \"\"\"\n",
    "    lem = WordNetLemmatizer()\n",
    "    lemmatized_words = []\n",
    "    for word in words:\n",
    "        #print('\\noriginal word:'+ word)\n",
    "        lemmatized_word = lem.lemmatize(word, pos='v')\n",
    "        #print('\\nlemmatized word:'+ wn._morphy(lemmatized_word, wn.NOUN))\n",
    "        lemmatized_words.append(lemmatized_word)\n",
    "    return lemmatized_words"
   ]
  },
  {
   "cell_type": "code",
   "execution_count": 16,
   "metadata": {},
   "outputs": [
    {
     "name": "stderr",
     "output_type": "stream",
     "text": [
      "Lemmatize AMZN 10-Ks: 100%|██████████| 17/17 [00:07<00:00,  2.3010-K/s]\n",
      "Lemmatize APL 10-Ks: 100%|██████████| 22/22 [00:07<00:00,  3.0710-K/s]\n",
      "Lemmatize MSFT 10-Ks: 100%|██████████| 24/24 [00:05<00:00,  4.3510-K/s]\n",
      "Lemmatize TSL 10-Ks: 100%|██████████| 7/7 [00:03<00:00,  2.0010-K/s]\n",
      "Lemmatize NKE 10-Ks: 100%|██████████| 21/21 [00:05<00:00,  3.6910-K/s]\n",
      "Lemmatize FB 10-Ks: 100%|██████████| 5/5 [00:01<00:00,  3.0810-K/s]\n",
      "Lemmatize GOOGL 10-Ks: 100%|██████████| 12/12 [00:04<00:00,  2.8710-K/s]"
     ]
    },
    {
     "name": "stdout",
     "output_type": "stream",
     "text": [
      "[\n",
      "  {\n",
      "    file_lemma: '['10', 'k', '1', 'a10', 'k20179302017', 'htm', '1...},\n",
      "  {\n",
      "    file_lemma: '['10', 'k', '1', 'a201610', 'k9242016', 'htm', '1...},\n",
      "  {\n",
      "    file_lemma: '['10', 'k', '1', 'd17062d10k', 'htm', 'form', '10...},\n",
      "  {\n",
      "    file_lemma: '['10', 'k', '1', 'd783162d10k', 'htm', '10', 'k',...},\n",
      "  {\n",
      "    file_lemma: '['10', 'k', '1', 'd590790d10k', 'htm', 'form', '1...},\n",
      "]\n"
     ]
    },
    {
     "name": "stderr",
     "output_type": "stream",
     "text": [
      "\n"
     ]
    }
   ],
   "source": [
    "#using this regex to find all words inside the 10k dict for each element in \"cleaned version\"\n",
    "#might consider as adding a dimension to 10k dict with list of lemmatized words\n",
    "word_pattern = re.compile('\\w+')\n",
    "\n",
    "for ticker, ten_ks in ten_ks_by_ticker.items():\n",
    "    for ten_k in tqdm(ten_ks, desc='Lemmatize {} 10-Ks'.format(ticker), unit='10-K'):\n",
    "        ten_k['file_lemma'] = lemmatize_words(word_pattern.findall(ten_k['file_clean']))\n",
    "\n",
    "\n",
    "project_helper.print_ten_k_data(ten_ks_by_ticker[example_ticker][:5], ['file_lemma'])"
   ]
  },
  {
   "cell_type": "code",
   "execution_count": 17,
   "metadata": {},
   "outputs": [
    {
     "name": "stderr",
     "output_type": "stream",
     "text": [
      "Remove Stop Words for AMZN 10-Ks: 100%|██████████| 17/17 [00:01<00:00, 13.0510-K/s]\n",
      "Remove Stop Words for APL 10-Ks: 100%|██████████| 22/22 [00:02<00:00,  9.2510-K/s]\n",
      "Remove Stop Words for MSFT 10-Ks: 100%|██████████| 24/24 [00:02<00:00,  9.8910-K/s]\n",
      "Remove Stop Words for TSL 10-Ks: 100%|██████████| 7/7 [00:01<00:00,  5.5110-K/s]\n",
      "Remove Stop Words for NKE 10-Ks: 100%|██████████| 21/21 [00:02<00:00, 10.5010-K/s]\n",
      "Remove Stop Words for FB 10-Ks: 100%|██████████| 5/5 [00:00<00:00,  9.7510-K/s]\n",
      "Remove Stop Words for GOOGL 10-Ks: 100%|██████████| 12/12 [00:01<00:00,  9.3010-K/s]"
     ]
    },
    {
     "name": "stdout",
     "output_type": "stream",
     "text": [
      "Stop Words Removed\n"
     ]
    },
    {
     "name": "stderr",
     "output_type": "stream",
     "text": [
      "\n"
     ]
    }
   ],
   "source": [
    "from nltk.corpus import stopwords\n",
    "\n",
    "#removing stopwords for each \n",
    "lemma_english_stopwords = lemmatize_words(stopwords.words('english'))\n",
    "\n",
    "for ticker, ten_ks in ten_ks_by_ticker.items():\n",
    "    for ten_k in tqdm(ten_ks, desc='Remove Stop Words for {} 10-Ks'.format(ticker), unit='10-K'):\n",
    "        ten_k['file_lemma'] = [word for word in ten_k['file_lemma'] if word not in lemma_english_stopwords]\n",
    "\n",
    "\n",
    "print('Stop Words Removed')"
   ]
  },
  {
   "cell_type": "markdown",
   "metadata": {},
   "source": [
    "Now we lemmatized words, removed the stop words, and it seems to be ready for analysis. \n",
    "\n",
    "###### Note to self: Yet we still have lots of irrelevant info inside the 'file_lemma' list"
   ]
  },
  {
   "cell_type": "markdown",
   "metadata": {},
   "source": [
    "### Analysis on 10K"
   ]
  },
  {
   "cell_type": "markdown",
   "metadata": {},
   "source": [
    "#### Lougharn McDonald Sentiment Word list"
   ]
  },
  {
   "cell_type": "code",
   "execution_count": 29,
   "metadata": {},
   "outputs": [
    {
     "data": {
      "text/html": [
       "<div>\n",
       "<table border=\"1\" class=\"dataframe\">\n",
       "  <thead>\n",
       "    <tr style=\"text-align: right;\">\n",
       "      <th></th>\n",
       "      <th>negative</th>\n",
       "      <th>positive</th>\n",
       "      <th>uncertainty</th>\n",
       "      <th>litigious</th>\n",
       "      <th>constraining</th>\n",
       "      <th>interesting</th>\n",
       "      <th>word</th>\n",
       "    </tr>\n",
       "  </thead>\n",
       "  <tbody>\n",
       "    <tr>\n",
       "      <th>9</th>\n",
       "      <td>True</td>\n",
       "      <td>False</td>\n",
       "      <td>False</td>\n",
       "      <td>False</td>\n",
       "      <td>False</td>\n",
       "      <td>False</td>\n",
       "      <td>abandon</td>\n",
       "    </tr>\n",
       "    <tr>\n",
       "      <th>12</th>\n",
       "      <td>True</td>\n",
       "      <td>False</td>\n",
       "      <td>False</td>\n",
       "      <td>False</td>\n",
       "      <td>False</td>\n",
       "      <td>False</td>\n",
       "      <td>abandonment</td>\n",
       "    </tr>\n",
       "    <tr>\n",
       "      <th>13</th>\n",
       "      <td>True</td>\n",
       "      <td>False</td>\n",
       "      <td>False</td>\n",
       "      <td>False</td>\n",
       "      <td>False</td>\n",
       "      <td>False</td>\n",
       "      <td>abandonments</td>\n",
       "    </tr>\n",
       "    <tr>\n",
       "      <th>51</th>\n",
       "      <td>True</td>\n",
       "      <td>False</td>\n",
       "      <td>False</td>\n",
       "      <td>False</td>\n",
       "      <td>False</td>\n",
       "      <td>False</td>\n",
       "      <td>abdicate</td>\n",
       "    </tr>\n",
       "    <tr>\n",
       "      <th>54</th>\n",
       "      <td>True</td>\n",
       "      <td>False</td>\n",
       "      <td>False</td>\n",
       "      <td>False</td>\n",
       "      <td>False</td>\n",
       "      <td>False</td>\n",
       "      <td>abdication</td>\n",
       "    </tr>\n",
       "    <tr>\n",
       "      <th>55</th>\n",
       "      <td>True</td>\n",
       "      <td>False</td>\n",
       "      <td>False</td>\n",
       "      <td>False</td>\n",
       "      <td>False</td>\n",
       "      <td>False</td>\n",
       "      <td>abdications</td>\n",
       "    </tr>\n",
       "    <tr>\n",
       "      <th>70</th>\n",
       "      <td>True</td>\n",
       "      <td>False</td>\n",
       "      <td>False</td>\n",
       "      <td>False</td>\n",
       "      <td>False</td>\n",
       "      <td>False</td>\n",
       "      <td>aberrant</td>\n",
       "    </tr>\n",
       "    <tr>\n",
       "      <th>71</th>\n",
       "      <td>True</td>\n",
       "      <td>False</td>\n",
       "      <td>False</td>\n",
       "      <td>False</td>\n",
       "      <td>False</td>\n",
       "      <td>False</td>\n",
       "      <td>aberration</td>\n",
       "    </tr>\n",
       "    <tr>\n",
       "      <th>72</th>\n",
       "      <td>True</td>\n",
       "      <td>False</td>\n",
       "      <td>False</td>\n",
       "      <td>False</td>\n",
       "      <td>False</td>\n",
       "      <td>False</td>\n",
       "      <td>aberrational</td>\n",
       "    </tr>\n",
       "    <tr>\n",
       "      <th>73</th>\n",
       "      <td>True</td>\n",
       "      <td>False</td>\n",
       "      <td>False</td>\n",
       "      <td>False</td>\n",
       "      <td>False</td>\n",
       "      <td>False</td>\n",
       "      <td>aberrations</td>\n",
       "    </tr>\n",
       "    <tr>\n",
       "      <th>79</th>\n",
       "      <td>True</td>\n",
       "      <td>False</td>\n",
       "      <td>False</td>\n",
       "      <td>False</td>\n",
       "      <td>False</td>\n",
       "      <td>False</td>\n",
       "      <td>abet</td>\n",
       "    </tr>\n",
       "    <tr>\n",
       "      <th>82</th>\n",
       "      <td>False</td>\n",
       "      <td>False</td>\n",
       "      <td>True</td>\n",
       "      <td>False</td>\n",
       "      <td>False</td>\n",
       "      <td>False</td>\n",
       "      <td>abeyance</td>\n",
       "    </tr>\n",
       "    <tr>\n",
       "      <th>83</th>\n",
       "      <td>False</td>\n",
       "      <td>False</td>\n",
       "      <td>True</td>\n",
       "      <td>False</td>\n",
       "      <td>False</td>\n",
       "      <td>False</td>\n",
       "      <td>abeyances</td>\n",
       "    </tr>\n",
       "    <tr>\n",
       "      <th>94</th>\n",
       "      <td>False</td>\n",
       "      <td>False</td>\n",
       "      <td>False</td>\n",
       "      <td>False</td>\n",
       "      <td>True</td>\n",
       "      <td>False</td>\n",
       "      <td>abide</td>\n",
       "    </tr>\n",
       "    <tr>\n",
       "      <th>125</th>\n",
       "      <td>False</td>\n",
       "      <td>True</td>\n",
       "      <td>False</td>\n",
       "      <td>False</td>\n",
       "      <td>False</td>\n",
       "      <td>False</td>\n",
       "      <td>able</td>\n",
       "    </tr>\n",
       "    <tr>\n",
       "      <th>138</th>\n",
       "      <td>True</td>\n",
       "      <td>False</td>\n",
       "      <td>False</td>\n",
       "      <td>False</td>\n",
       "      <td>False</td>\n",
       "      <td>False</td>\n",
       "      <td>abnormal</td>\n",
       "    </tr>\n",
       "    <tr>\n",
       "      <th>139</th>\n",
       "      <td>True</td>\n",
       "      <td>False</td>\n",
       "      <td>False</td>\n",
       "      <td>False</td>\n",
       "      <td>False</td>\n",
       "      <td>False</td>\n",
       "      <td>abnormalities</td>\n",
       "    </tr>\n",
       "    <tr>\n",
       "      <th>140</th>\n",
       "      <td>True</td>\n",
       "      <td>False</td>\n",
       "      <td>False</td>\n",
       "      <td>False</td>\n",
       "      <td>False</td>\n",
       "      <td>False</td>\n",
       "      <td>abnormality</td>\n",
       "    </tr>\n",
       "    <tr>\n",
       "      <th>141</th>\n",
       "      <td>True</td>\n",
       "      <td>False</td>\n",
       "      <td>False</td>\n",
       "      <td>False</td>\n",
       "      <td>False</td>\n",
       "      <td>False</td>\n",
       "      <td>abnormally</td>\n",
       "    </tr>\n",
       "    <tr>\n",
       "      <th>145</th>\n",
       "      <td>True</td>\n",
       "      <td>False</td>\n",
       "      <td>False</td>\n",
       "      <td>False</td>\n",
       "      <td>False</td>\n",
       "      <td>False</td>\n",
       "      <td>abolish</td>\n",
       "    </tr>\n",
       "  </tbody>\n",
       "</table>\n",
       "</div>"
      ],
      "text/plain": [
       "    negative positive uncertainty litigious constraining interesting  \\\n",
       "9       True    False       False     False        False       False   \n",
       "12      True    False       False     False        False       False   \n",
       "13      True    False       False     False        False       False   \n",
       "51      True    False       False     False        False       False   \n",
       "54      True    False       False     False        False       False   \n",
       "55      True    False       False     False        False       False   \n",
       "70      True    False       False     False        False       False   \n",
       "71      True    False       False     False        False       False   \n",
       "72      True    False       False     False        False       False   \n",
       "73      True    False       False     False        False       False   \n",
       "79      True    False       False     False        False       False   \n",
       "82     False    False        True     False        False       False   \n",
       "83     False    False        True     False        False       False   \n",
       "94     False    False       False     False         True       False   \n",
       "125    False     True       False     False        False       False   \n",
       "138     True    False       False     False        False       False   \n",
       "139     True    False       False     False        False       False   \n",
       "140     True    False       False     False        False       False   \n",
       "141     True    False       False     False        False       False   \n",
       "145     True    False       False     False        False       False   \n",
       "\n",
       "              word  \n",
       "9          abandon  \n",
       "12     abandonment  \n",
       "13    abandonments  \n",
       "51        abdicate  \n",
       "54      abdication  \n",
       "55     abdications  \n",
       "70        aberrant  \n",
       "71      aberration  \n",
       "72    aberrational  \n",
       "73     aberrations  \n",
       "79            abet  \n",
       "82        abeyance  \n",
       "83       abeyances  \n",
       "94           abide  \n",
       "125           able  \n",
       "138       abnormal  \n",
       "139  abnormalities  \n",
       "140    abnormality  \n",
       "141     abnormally  \n",
       "145        abolish  "
      ]
     },
     "execution_count": 29,
     "metadata": {},
     "output_type": "execute_result"
    }
   ],
   "source": [
    "# we get a LMSW csv file from the udacity repositary https://github.com/hkailee/Udacity/find/master\n",
    "# here we reprocess this file to be used in our applicaton\n",
    "import os\n",
    "\n",
    "#choosing list of sentiments that we are interested in \n",
    "#original consists of: negative, positive, uncertainty, litigious, constaringing, superfluous, interesting, model, irr_verb, harvard_iv, syllables\n",
    "sentiments = ['negative', 'positive', 'uncertainty', 'litigious', 'constraining', 'interesting']\n",
    "\n",
    "#reading csv file from the data folder\n",
    "sentiment_df = pd.read_csv(os.path.join('data/10k_loughran_mcdonald/loughran_mcdonald_master_dic_2016.csv'))\n",
    "sentiment_df.columns = [column.lower() for column in sentiment_df.columns] # Lowercase the columns for ease of use\n",
    "\n",
    "# Remove unused information\n",
    "sentiment_df = sentiment_df[sentiments + ['word']] # omitting irrelevant data such as std dev word count and etc\n",
    "sentiment_df[sentiments] = sentiment_df[sentiments].astype(bool) # creating true or false expression\n",
    "sentiment_df = sentiment_df[(sentiment_df[sentiments]).any(1)] #checks if a single line is true (aka removes unused words)\n",
    "\n",
    "\n",
    "# Apply the same preprocessing to these words as the 10-k words\n",
    "sentiment_df['word'] = lemmatize_words(sentiment_df['word'].str.lower())\n",
    "\n",
    "sentiment_df = sentiment_df.drop_duplicates('word')\n",
    "\n",
    "\n",
    "sentiment_df.head(20)"
   ]
  },
  {
   "cell_type": "markdown",
   "metadata": {},
   "source": [
    "#### Bag of Words\n",
    "Creating for each sentiment in the document a vectorization of words"
   ]
  },
  {
   "cell_type": "code",
   "execution_count": 42,
   "metadata": {},
   "outputs": [
    {
     "name": "stdout",
     "output_type": "stream",
     "text": [
      "Tests Passed\n"
     ]
    }
   ],
   "source": [
    "from collections import defaultdict, Counter\n",
    "from sklearn.feature_extraction.text import CountVectorizer\n",
    "\n",
    "\n",
    "def get_bag_of_words(sentiment_words, docs):\n",
    "    \"\"\"\n",
    "    Generate a bag of words from documents for a certain sentiment\n",
    "\n",
    "    Parameters\n",
    "    ----------\n",
    "    sentiment_words: Pandas Series\n",
    "        Words that signify a certain sentiment\n",
    "    docs : list of str\n",
    "        List of documents used to generate bag of words\n",
    "\n",
    "    Returns\n",
    "    -------\n",
    "    bag_of_words : 2-d Numpy Ndarray of int\n",
    "        Bag of words sentiment for each document\n",
    "        The first dimension is the document.\n",
    "        The second dimension is the word.\n",
    "    \"\"\"\n",
    "    \n",
    "    # creating a vecrotization of the sentiment words from the df we created\n",
    "    count_vector = CountVectorizer(vocabulary=sentiment_words)\n",
    "    # fitting the document to the vector of sentiment words\n",
    "    bag_of_words = count_vector.fit_transform(docs).toarray()\n",
    "    \n",
    "    return bag_of_words\n",
    "    \n",
    "    \n",
    "sentiments = ['negative', 'positive', 'uncertainty', 'litigious', 'constraining', 'interesting']\n",
    "\n",
    "project_tests.test_get_bag_of_words(get_bag_of_words)"
   ]
  },
  {
   "cell_type": "code",
   "execution_count": 43,
   "metadata": {},
   "outputs": [
    {
     "name": "stdout",
     "output_type": "stream",
     "text": [
      "[\n",
      "  {\n",
      "    negative: '[[0 0 0 ... 0 0 0]\\n [0 0 0 ... 0 0 0]\\n [0 0 0 ....\n",
      "    positive: '[[9 0 0 ... 0 0 0]\\n [9 0 0 ... 0 0 0]\\n [9 0 0 ....\n",
      "    uncertainty: '[[0 0 0 ... 2 0 8]\\n [0 0 0 ... 2 0 8]\\n [0 0 0 ....\n",
      "    litigious: '[[0 0 0 ... 0 0 0]\\n [0 0 0 ... 0 0 0]\\n [0 0 0 ....\n",
      "    constraining: '[[0 0 0 ... 0 0 0]\\n [0 0 0 ... 0 0 0]\\n [0 0 0 ....\n",
      "    interesting: '[[5 1 0 ... 0 0 0]\\n [4 2 0 ... 0 0 0]\\n [4 2 0 ....},\n",
      "]\n"
     ]
    }
   ],
   "source": [
    "# here we will create for each ticker a list of sentiments per documents in the form of\n",
    "# {ticker1: [{sentiment1: '[vector_for_ticker1_document1],[vector_for_ticker_1_document2]'; sentiment2:[...]}];ticker2: ...}\n",
    "sentiment_bow_ten_ks = {}\n",
    "\n",
    "for ticker, ten_ks in ten_ks_by_ticker.items():\n",
    "    # Create a extracting list of lemmatized words for each 10k, this must be in a date-descending order\n",
    "    lemma_docs = [' '.join(ten_k['file_lemma']) for ten_k in ten_ks]\n",
    "    #because we did boolen type, the following will return words for specified sentiment from sent_df, and see which ones are in lemma docs.\n",
    "    sentiment_bow_ten_ks[ticker] = {\n",
    "        sentiment: get_bag_of_words(sentiment_df[sentiment_df[sentiment]]['word'], lemma_docs)\n",
    "        for sentiment in sentiments}\n",
    "\n",
    "\n",
    "project_helper.print_ten_k_data([sentiment_bow_ten_ks[example_ticker]], sentiments)"
   ]
  },
  {
   "cell_type": "markdown",
   "metadata": {},
   "source": [
    "#### Jaccard Similarity\n",
    "\n",
    "Jaccard similarty to see how the 10k document sentiments in the bow change within time \n",
    "\n",
    "###### Note to self: (not entirely sure how this helps us with the analysis) and why my graph happened to be reverse from the one in the exercise"
   ]
  },
  {
   "cell_type": "code",
   "execution_count": 45,
   "metadata": {},
   "outputs": [],
   "source": [
    "from sklearn.metrics import jaccard_similarity_score\n",
    "\n",
    "\n",
    "def get_jaccard_similarity(bag_of_words_matrix):\n",
    "    \"\"\"\n",
    "    Get jaccard similarities for neighboring documents\n",
    "\n",
    "    Parameters\n",
    "    ----------\n",
    "    bag_of_words : 2-d Numpy Ndarray of int\n",
    "        Bag of words sentiment for each document\n",
    "        The first dimension is the document.\n",
    "        The second dimension is the word.\n",
    "\n",
    "    Returns\n",
    "    -------\n",
    "    jaccard_similarities : list of float\n",
    "        Jaccard similarities for neighboring documents\n",
    "    \"\"\"\n",
    "    #reducing information to 1 = word present, 0 = word absent\n",
    "    bag_of_words = bag_of_words_matrix.astype(bool)\n",
    "    #\n",
    "    jaccard_similarities = [jaccard_similarity_score(u,v) for u, v in zip(bag_of_words,bag_of_words[1:])]\n",
    "    return jaccard_similarities\n",
    "    "
   ]
  },
  {
   "cell_type": "code",
   "execution_count": 46,
   "metadata": {},
   "outputs": [
    {
     "data": {
      "image/png": "[encoded data removed]",
      "text/plain": [
       "<Figure size 720x504 with 1 Axes>"
      ]
     },
     "metadata": {
      "needs_background": "light"
     },
     "output_type": "display_data"
    }
   ],
   "source": [
    "# Here we create Jaccard similarities for the sentiments of interest, aka, we see, how two vectors of bog are similar  \n",
    "# in neigbouring documents \n",
    "file_dates = {\n",
    "    ticker: [ten_k['file_date'] for ten_k in ten_ks]\n",
    "    for ticker, ten_ks in ten_ks_by_ticker.items()}  \n",
    "\n",
    "jaccard_similarities = {\n",
    "    ticker: {\n",
    "        sentiment_name: get_jaccard_similarity(sentiment_values)\n",
    "        for sentiment_name, sentiment_values in ten_k_sentiments.items()}\n",
    "    for ticker, ten_k_sentiments in sentiment_bow_ten_ks.items()}\n",
    "\n",
    "\n",
    "project_helper.plot_similarities(\n",
    "    [jaccard_similarities[example_ticker][sentiment] for sentiment in sentiments],\n",
    "    file_dates[example_ticker][1:],\n",
    "    'Jaccard Similarities for {} Sentiment'.format(example_ticker),\n",
    "    sentiments)"
   ]
  },
  {
   "cell_type": "markdown",
   "metadata": {},
   "source": [
    "#### TFIDF"
   ]
  },
  {
   "cell_type": "code",
   "execution_count": 50,
   "metadata": {},
   "outputs": [],
   "source": [
    "from sklearn.feature_extraction.text import TfidfVectorizer\n",
    "\n",
    "\n",
    "def get_tfidf(sentiment_words, docs):\n",
    "    \"\"\"\n",
    "    Generate TFIDF values from documents for a certain sentiment\n",
    "\n",
    "    Parameters\n",
    "    ----------\n",
    "    sentiment_words: Pandas Series\n",
    "        Words that signify a certain sentiment\n",
    "    docs : list of str\n",
    "        List of documents used to generate bag of words\n",
    "\n",
    "    Returns\n",
    "    -------\n",
    "    tfidf : 2-d Numpy Ndarray of float\n",
    "        TFIDF sentiment for each document\n",
    "        The first dimension is the document.\n",
    "        The second dimension is the word.\n",
    "    \"\"\"\n",
    "    #creating a vecortiezer to create TFIDF Score for each word in the document\n",
    "    vectorizer = TfidfVectorizer(vocabulary = sentiment_words)\n",
    "    tfidf = vectorizer.fit_transform(docs).toarray()\n",
    "    \n",
    "    return tfidf\n"
   ]
  },
  {
   "cell_type": "code",
   "execution_count": 51,
   "metadata": {},
   "outputs": [
    {
     "name": "stdout",
     "output_type": "stream",
     "text": [
      "[\n",
      "  {\n",
      "    negative: '[[0. 0. 0. ... 0. 0. 0.]\\n [0. 0. 0. ... 0. 0. 0....\n",
      "    positive: '[[0.11586874 0.         0.         ... 0.        ...\n",
      "    uncertainty: '[[0.         0.         0.         ... 0.00811961...\n",
      "    litigious: '[[0.         0.         0.         ... 0.        ...\n",
      "    constraining: '[[0. 0. 0. ... 0. 0. 0.]\\n [0. 0. 0. ... 0. 0. 0....\n",
      "    interesting: '[[0.06665465 0.01659864 0.         ... 0.        ...},\n",
      "]\n"
     ]
    }
   ],
   "source": [
    "sentiment_tfidf_ten_ks = {}\n",
    "\n",
    "for ticker, ten_ks in ten_ks_by_ticker.items():\n",
    "    lemma_docs = [' '.join(ten_k['file_lemma']) for ten_k in ten_ks]\n",
    "    \n",
    "    sentiment_tfidf_ten_ks[ticker] = {\n",
    "        sentiment: get_tfidf(sentiment_df[sentiment_df[sentiment]]['word'], lemma_docs)\n",
    "        for sentiment in sentiments}\n",
    "\n",
    "    \n",
    "project_helper.print_ten_k_data([sentiment_tfidf_ten_ks[example_ticker]], sentiments)"
   ]
  },
  {
   "cell_type": "markdown",
   "metadata": {},
   "source": [
    "#### Cosine Similarity\n",
    "Almost same information as Jaccardian similarity, but now we take into the account the relevance of each word in the whole document sphere. Hence we see more how the documents changed within times in terms of relevant information to today"
   ]
  },
  {
   "cell_type": "code",
   "execution_count": 53,
   "metadata": {},
   "outputs": [],
   "source": [
    "from sklearn.metrics.pairwise import cosine_similarity\n",
    "\n",
    "\n",
    "def get_cosine_similarity(tfidf_matrix):\n",
    "    \"\"\"\n",
    "    Get cosine similarities for each neighboring TFIDF vector/document\n",
    "\n",
    "    Parameters\n",
    "    ----------\n",
    "    tfidf : 2-d Numpy Ndarray of float\n",
    "        TFIDF sentiment for each document\n",
    "        The first dimension is the document.\n",
    "        The second dimension is the word.\n",
    "\n",
    "    Returns\n",
    "    -------\n",
    "    cosine_similarities : list of float\n",
    "        Cosine similarities for neighboring documents\n",
    "    \"\"\"\n",
    "    \n",
    "    # TODO: Implement\n",
    "    cos_similarity= cosine_similarity(tfidf_matrix[0:], tfidf_matrix[1:])\n",
    "    \n",
    "    return cos_similarity[0].tolist()\n",
    "\n"
   ]
  },
  {
   "cell_type": "code",
   "execution_count": 54,
   "metadata": {},
   "outputs": [
    {
     "data": {
      "image/png": "[encoded data removed]",
      "text/plain": [
       "<Figure size 720x504 with 1 Axes>"
      ]
     },
     "metadata": {
      "needs_background": "light"
     },
     "output_type": "display_data"
    }
   ],
   "source": [
    "cosine_similarities = {\n",
    "    ticker: {\n",
    "        sentiment_name: get_cosine_similarity(sentiment_values)\n",
    "        for sentiment_name, sentiment_values in ten_k_sentiments.items()}\n",
    "    for ticker, ten_k_sentiments in sentiment_tfidf_ten_ks.items()}\n",
    "\n",
    "\n",
    "project_helper.plot_similarities(\n",
    "    [cosine_similarities[example_ticker][sentiment] for sentiment in sentiments],\n",
    "    file_dates[example_ticker][1:],\n",
    "    'Cosine Similarities for {} Sentiment'.format(example_ticker),\n",
    "    sentiments)"
   ]
  },
  {
   "cell_type": "markdown",
   "metadata": {},
   "source": [
    "### Evaluating Alpha Factors"
   ]
  },
  {
   "cell_type": "markdown",
   "metadata": {},
   "source": [
    "We will do this ANALYSIS A BIT LATER! COME BACK TO THIS ONE LATER"
   ]
  },
  {
   "cell_type": "code",
   "execution_count": null,
   "metadata": {},
   "outputs": [],
   "source": []
  }
 ],
 "metadata": {
  "kernelspec": {
   "display_name": "investment",
   "language": "python",
   "name": "investment"
  },
  "language_info": {
   "codemirror_mode": {
    "name": "ipython",
    "version": 3
   },
   "file_extension": ".py",
   "mimetype": "text/x-python",
   "name": "python",
   "nbconvert_exporter": "python",
   "pygments_lexer": "ipython3",
   "version": "3.6.7"
  }
 },
 "nbformat": 4,
 "nbformat_minor": 2
}
